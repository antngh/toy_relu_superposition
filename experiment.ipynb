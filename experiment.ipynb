{
 "cells": [
  {
   "cell_type": "code",
   "execution_count": 1,
   "metadata": {},
   "outputs": [],
   "source": [
    "import torch\n",
    "from torch import nn\n",
    "from torch.utils.data import DataLoader, TensorDataset\n",
    "from tqdm.notebook import tqdm\n",
    "\n",
    "from collections import defaultdict\n",
    "import pandas as pd\n",
    "import seaborn as sns\n",
    "import matplotlib.pyplot as plt\n",
    "from IPython.display import clear_output\n"
   ]
  },
  {
   "cell_type": "code",
   "execution_count": null,
   "metadata": {},
   "outputs": [],
   "source": [
    "def expected_naive_loss(n, m, p, super_naive=False):\n",
    "    \"\"\"\n",
    "    n is the number of inputs\n",
    "    m is the number of hidden nodes\n",
    "    p is the probability that any given input node is not zero (i.e.) within [-1, 1]\n",
    "    super_naive means that we have a model that just predicts 0 always\n",
    "    \"\"\"\n",
    "    if super_naive:\n",
    "        return p/6\n",
    "    \n",
    "    return (p/6) * (n-m)/n"
   ]
  },
  {
   "cell_type": "code",
   "execution_count": null,
   "metadata": {},
   "outputs": [],
   "source": [
    "def get_trained_model_and_loss(\n",
    "    n,\n",
    "    m,\n",
    "    p,\n",
    "    learning_rate = 1e-3,\n",
    "    batch_size = 256,\n",
    "    epochs = 20,\n",
    "    n_samples = 100_000,\n",
    "    plot=False,\n",
    "):\n",
    "    \"\"\"\n",
    "    n is the number of inputs\n",
    "    m is the number of hidden nodes\n",
    "    p is the probability that any given input node is not zero (i.e.) within [-1, 1]\n",
    "    n_samples is the number of random datapoints (of size n) to generate\n",
    "    \"\"\"\n",
    "    n_input = n\n",
    "    n_hidden = m\n",
    "    n_output = n_input\n",
    "\n",
    "    # Get predicted losses\n",
    "    naive_loss = expected_naive_loss(n=n_input, m=n_hidden, p=p, super_naive=False)\n",
    "    naive_loss_all_zero = expected_naive_loss(n=n_input, m=n_hidden, p=p, super_naive=True)\n",
    "\n",
    "    # Generate data\n",
    "    mask = torch.rand([n_samples, n_input]) < p\n",
    "    x = mask * (2 * torch.rand([n_samples, n_input]) - 1)\n",
    "    y = nn.functional.relu(x)\n",
    "\n",
    "    # Define model\n",
    "    model = torch.nn.Sequential(\n",
    "        nn.Linear(n_input, n_hidden),\n",
    "        nn.ReLU(),\n",
    "        nn.Linear(n_hidden, n_output),\n",
    "    )\n",
    "    optimizer = torch.optim.Adam(model.parameters(), lr=learning_rate)\n",
    "\n",
    "    dataloader = DataLoader(\n",
    "        TensorDataset(x, y), \n",
    "        batch_size=batch_size,\n",
    "        shuffle=True,\n",
    "        drop_last=True,\n",
    "    )\n",
    "\n",
    "    training_stats = defaultdict(list)\n",
    "    iterable_ = range(epochs)\n",
    "    for epoch in (tqdm(iterable_) if plot else iterable_):\n",
    "        for batch_x, batch_y in dataloader:\n",
    "            # batch_x = batch_x.to(device)\n",
    "            # batch_y = batch_y.to(device)\n",
    "        \n",
    "            y_pred = model(batch_x)\n",
    "            loss = torch.nn.functional.mse_loss(y_pred, batch_y)\n",
    "\n",
    "            loss.backward()\n",
    "            optimizer.step()\n",
    "            optimizer.zero_grad()\n",
    "        \n",
    "        with torch.no_grad():\n",
    "            full_pred = model(x)        \n",
    "            epoch_loss = torch.nn.functional.mse_loss(full_pred, y)\n",
    "        training_stats['epoch'].append(epoch)\n",
    "        training_stats['loss'].append(epoch_loss.item())\n",
    "\n",
    "        if plot:\n",
    "            training_stats_df = pd.DataFrame(training_stats)\n",
    "            clear_output(wait=True)\n",
    "            plt.clf()\n",
    "\n",
    "            ax = sns.lineplot(data=training_stats_df, x='epoch', y='loss')\n",
    "            ax.set_yscale(\"log\")\n",
    "            plt.show()\n",
    "\n",
    "        if len(training_stats[\"loss\"]) > 1 and ((training_stats['loss'][-1] - training_stats['loss'][-2]) > -1e-6):\n",
    "            break\n",
    "\n",
    "    return {\n",
    "        \"n\": n,\n",
    "        \"m\": m,\n",
    "        \"p\": p,\n",
    "        \"model_loss\": epoch_loss.item(),\n",
    "        \"naive_loss\": naive_loss,\n",
    "        \"naive_loss_all_zero\": naive_loss_all_zero,\n",
    "    }, model"
   ]
  },
  {
   "cell_type": "code",
   "execution_count": 4,
   "metadata": {},
   "outputs": [
    {
     "name": "stderr",
     "output_type": "stream",
     "text": [
      "/Users/anton/dev/.virtual_envs/default_env/lib/python3.11/site-packages/seaborn/_oldcore.py:1119: FutureWarning: use_inf_as_na option is deprecated and will be removed in a future version. Convert inf values to NaN before operating instead.\n",
      "  with pd.option_context('mode.use_inf_as_na', True):\n",
      "/Users/anton/dev/.virtual_envs/default_env/lib/python3.11/site-packages/seaborn/_oldcore.py:1119: FutureWarning: use_inf_as_na option is deprecated and will be removed in a future version. Convert inf values to NaN before operating instead.\n",
      "  with pd.option_context('mode.use_inf_as_na', True):\n"
     ]
    },
    {
     "data": {
      "image/png": "[encoded data removed]",
      "text/plain": [
       "<Figure size 640x480 with 1 Axes>"
      ]
     },
     "metadata": {},
     "output_type": "display_data"
    },
    {
     "data": {
      "text/plain": [
       "({'n': 10,\n",
       "  'm': 5,\n",
       "  'p': 0.2,\n",
       "  'model_loss': 0.016887683421373367,\n",
       "  'naive_loss': 0.016666666666666666,\n",
       "  'naive_loss_all_zero': 0.03333333333333333},\n",
       " Sequential(\n",
       "   (0): Linear(in_features=10, out_features=5, bias=True)\n",
       "   (1): ReLU()\n",
       "   (2): Linear(in_features=5, out_features=10, bias=True)\n",
       " ))"
      ]
     },
     "execution_count": 4,
     "metadata": {},
     "output_type": "execute_result"
    }
   ],
   "source": [
    "get_trained_model_and_loss(n=10, m=5, p=0.2, plot=True)"
   ]
  },
  {
   "cell_type": "code",
   "execution_count": null,
   "metadata": {},
   "outputs": [
    {
     "data": {
      "application/vnd.jupyter.widget-view+json": {
       "model_id": "b5be259b8856470cbf4b5afff0d9b7fd",
       "version_major": 2,
       "version_minor": 0
      },
      "text/plain": [
       "  0%|          | 0/4 [00:00<?, ?it/s]"
      ]
     },
     "metadata": {},
     "output_type": "display_data"
    },
    {
     "data": {
      "application/vnd.jupyter.widget-view+json": {
       "model_id": "2f415bf4aeb64c0683b3142e7d91c56c",
       "version_major": 2,
       "version_minor": 0
      },
      "text/plain": [
       "  0%|          | 0/9 [00:00<?, ?it/s]"
      ]
     },
     "metadata": {},
     "output_type": "display_data"
    },
    {
     "data": {
      "application/vnd.jupyter.widget-view+json": {
       "model_id": "4ea20a014c414cb8be19d2a54f04c7ec",
       "version_major": 2,
       "version_minor": 0
      },
      "text/plain": [
       "  0%|          | 0/9 [00:00<?, ?it/s]"
      ]
     },
     "metadata": {},
     "output_type": "display_data"
    },
    {
     "data": {
      "application/vnd.jupyter.widget-view+json": {
       "model_id": "c3dd60629597437abba96dfbe1c1b32c",
       "version_major": 2,
       "version_minor": 0
      },
      "text/plain": [
       "  0%|          | 0/9 [00:00<?, ?it/s]"
      ]
     },
     "metadata": {},
     "output_type": "display_data"
    },
    {
     "data": {
      "application/vnd.jupyter.widget-view+json": {
       "model_id": "ec2eb0911b6b4a36871d29ec6ff48eee",
       "version_major": 2,
       "version_minor": 0
      },
      "text/plain": [
       "  0%|          | 0/9 [00:00<?, ?it/s]"
      ]
     },
     "metadata": {},
     "output_type": "display_data"
    }
   ],
   "source": [
    "stats_list = []\n",
    "for n in tqdm([2, 3, 5, 10]):\n",
    "    for m in tqdm(range(1, 10)):\n",
    "        if m > n:\n",
    "            continue\n",
    "\n",
    "        for p in [0, 0.01, 0.05, 0.1, 0.2, 0.5, 0.8, 0.9, 1]:\n",
    "            stats_list.append(get_trained_model_and_loss(n=n, m=m, p=p, plot=False))"
   ]
  },
  {
   "cell_type": "code",
   "execution_count": 17,
   "metadata": {},
   "outputs": [
    {
     "data": {
      "text/html": [
       "<div>\n",
       "<style scoped>\n",
       "    .dataframe tbody tr th:only-of-type {\n",
       "        vertical-align: middle;\n",
       "    }\n",
       "\n",
       "    .dataframe tbody tr th {\n",
       "        vertical-align: top;\n",
       "    }\n",
       "\n",
       "    .dataframe thead th {\n",
       "        text-align: right;\n",
       "    }\n",
       "</style>\n",
       "<table border=\"1\" class=\"dataframe\">\n",
       "  <thead>\n",
       "    <tr style=\"text-align: right;\">\n",
       "      <th></th>\n",
       "      <th>n</th>\n",
       "      <th>m</th>\n",
       "      <th>p</th>\n",
       "      <th>model_loss</th>\n",
       "      <th>naive_loss</th>\n",
       "      <th>naive_loss_all_zero</th>\n",
       "      <th>n_minus_m</th>\n",
       "      <th>model_loss_over_naive_loss</th>\n",
       "    </tr>\n",
       "  </thead>\n",
       "  <tbody>\n",
       "    <tr>\n",
       "      <th>0</th>\n",
       "      <td>2</td>\n",
       "      <td>1</td>\n",
       "      <td>0.00</td>\n",
       "      <td>1.308975e-10</td>\n",
       "      <td>0.000000</td>\n",
       "      <td>0.000000</td>\n",
       "      <td>1</td>\n",
       "      <td>inf</td>\n",
       "    </tr>\n",
       "    <tr>\n",
       "      <th>1</th>\n",
       "      <td>2</td>\n",
       "      <td>1</td>\n",
       "      <td>0.01</td>\n",
       "      <td>8.881605e-04</td>\n",
       "      <td>0.000833</td>\n",
       "      <td>0.001667</td>\n",
       "      <td>1</td>\n",
       "      <td>1.065793</td>\n",
       "    </tr>\n",
       "    <tr>\n",
       "      <th>2</th>\n",
       "      <td>2</td>\n",
       "      <td>1</td>\n",
       "      <td>0.05</td>\n",
       "      <td>6.079019e-03</td>\n",
       "      <td>0.004167</td>\n",
       "      <td>0.008333</td>\n",
       "      <td>1</td>\n",
       "      <td>1.458965</td>\n",
       "    </tr>\n",
       "    <tr>\n",
       "      <th>3</th>\n",
       "      <td>2</td>\n",
       "      <td>1</td>\n",
       "      <td>0.10</td>\n",
       "      <td>1.644326e-02</td>\n",
       "      <td>0.008333</td>\n",
       "      <td>0.016667</td>\n",
       "      <td>1</td>\n",
       "      <td>1.973191</td>\n",
       "    </tr>\n",
       "    <tr>\n",
       "      <th>4</th>\n",
       "      <td>2</td>\n",
       "      <td>1</td>\n",
       "      <td>0.20</td>\n",
       "      <td>2.264157e-02</td>\n",
       "      <td>0.016667</td>\n",
       "      <td>0.033333</td>\n",
       "      <td>1</td>\n",
       "      <td>1.358494</td>\n",
       "    </tr>\n",
       "    <tr>\n",
       "      <th>...</th>\n",
       "      <td>...</td>\n",
       "      <td>...</td>\n",
       "      <td>...</td>\n",
       "      <td>...</td>\n",
       "      <td>...</td>\n",
       "      <td>...</td>\n",
       "      <td>...</td>\n",
       "      <td>...</td>\n",
       "    </tr>\n",
       "    <tr>\n",
       "      <th>166</th>\n",
       "      <td>10</td>\n",
       "      <td>9</td>\n",
       "      <td>0.20</td>\n",
       "      <td>3.047082e-03</td>\n",
       "      <td>0.003333</td>\n",
       "      <td>0.033333</td>\n",
       "      <td>1</td>\n",
       "      <td>0.914125</td>\n",
       "    </tr>\n",
       "    <tr>\n",
       "      <th>167</th>\n",
       "      <td>10</td>\n",
       "      <td>9</td>\n",
       "      <td>0.50</td>\n",
       "      <td>1.192586e-02</td>\n",
       "      <td>0.008333</td>\n",
       "      <td>0.083333</td>\n",
       "      <td>1</td>\n",
       "      <td>1.431103</td>\n",
       "    </tr>\n",
       "    <tr>\n",
       "      <th>168</th>\n",
       "      <td>10</td>\n",
       "      <td>9</td>\n",
       "      <td>0.80</td>\n",
       "      <td>9.388238e-03</td>\n",
       "      <td>0.013333</td>\n",
       "      <td>0.133333</td>\n",
       "      <td>1</td>\n",
       "      <td>0.704118</td>\n",
       "    </tr>\n",
       "    <tr>\n",
       "      <th>169</th>\n",
       "      <td>10</td>\n",
       "      <td>9</td>\n",
       "      <td>0.90</td>\n",
       "      <td>9.947456e-03</td>\n",
       "      <td>0.015000</td>\n",
       "      <td>0.150000</td>\n",
       "      <td>1</td>\n",
       "      <td>0.663164</td>\n",
       "    </tr>\n",
       "    <tr>\n",
       "      <th>170</th>\n",
       "      <td>10</td>\n",
       "      <td>9</td>\n",
       "      <td>1.00</td>\n",
       "      <td>1.043677e-02</td>\n",
       "      <td>0.016667</td>\n",
       "      <td>0.166667</td>\n",
       "      <td>1</td>\n",
       "      <td>0.626206</td>\n",
       "    </tr>\n",
       "  </tbody>\n",
       "</table>\n",
       "<p>171 rows × 8 columns</p>\n",
       "</div>"
      ],
      "text/plain": [
       "      n  m     p    model_loss  naive_loss  naive_loss_all_zero  n_minus_m  \\\n",
       "0     2  1  0.00  1.308975e-10    0.000000             0.000000          1   \n",
       "1     2  1  0.01  8.881605e-04    0.000833             0.001667          1   \n",
       "2     2  1  0.05  6.079019e-03    0.004167             0.008333          1   \n",
       "3     2  1  0.10  1.644326e-02    0.008333             0.016667          1   \n",
       "4     2  1  0.20  2.264157e-02    0.016667             0.033333          1   \n",
       "..   .. ..   ...           ...         ...                  ...        ...   \n",
       "166  10  9  0.20  3.047082e-03    0.003333             0.033333          1   \n",
       "167  10  9  0.50  1.192586e-02    0.008333             0.083333          1   \n",
       "168  10  9  0.80  9.388238e-03    0.013333             0.133333          1   \n",
       "169  10  9  0.90  9.947456e-03    0.015000             0.150000          1   \n",
       "170  10  9  1.00  1.043677e-02    0.016667             0.166667          1   \n",
       "\n",
       "     model_loss_over_naive_loss  \n",
       "0                           inf  \n",
       "1                      1.065793  \n",
       "2                      1.458965  \n",
       "3                      1.973191  \n",
       "4                      1.358494  \n",
       "..                          ...  \n",
       "166                    0.914125  \n",
       "167                    1.431103  \n",
       "168                    0.704118  \n",
       "169                    0.663164  \n",
       "170                    0.626206  \n",
       "\n",
       "[171 rows x 8 columns]"
      ]
     },
     "execution_count": 17,
     "metadata": {},
     "output_type": "execute_result"
    }
   ],
   "source": [
    "res_df = pd.DataFrame([d_ for d_, model_ in stats_list])\n",
    "res_df[\"n_minus_m\"] = res_df[\"n\"] - res_df[\"m\"]\n",
    "res_df[\"model_loss_over_naive_loss\"] = res_df[\"model_loss\"] / res_df[\"naive_loss\"]\n",
    "res_df"
   ]
  },
  {
   "cell_type": "code",
   "execution_count": 31,
   "metadata": {},
   "outputs": [
    {
     "data": {
      "text/html": [
       "<div>\n",
       "<style scoped>\n",
       "    .dataframe tbody tr th:only-of-type {\n",
       "        vertical-align: middle;\n",
       "    }\n",
       "\n",
       "    .dataframe tbody tr th {\n",
       "        vertical-align: top;\n",
       "    }\n",
       "\n",
       "    .dataframe thead th {\n",
       "        text-align: right;\n",
       "    }\n",
       "</style>\n",
       "<table border=\"1\" class=\"dataframe\">\n",
       "  <thead>\n",
       "    <tr style=\"text-align: right;\">\n",
       "      <th></th>\n",
       "      <th>model_loss</th>\n",
       "      <th>naive_loss</th>\n",
       "    </tr>\n",
       "  </thead>\n",
       "  <tbody>\n",
       "    <tr>\n",
       "      <th>count</th>\n",
       "      <td>2.700000e+01</td>\n",
       "      <td>27.0</td>\n",
       "    </tr>\n",
       "    <tr>\n",
       "      <th>mean</th>\n",
       "      <td>5.195023e-03</td>\n",
       "      <td>0.0</td>\n",
       "    </tr>\n",
       "    <tr>\n",
       "      <th>std</th>\n",
       "      <td>1.055707e-02</td>\n",
       "      <td>0.0</td>\n",
       "    </tr>\n",
       "    <tr>\n",
       "      <th>min</th>\n",
       "      <td>4.791898e-15</td>\n",
       "      <td>0.0</td>\n",
       "    </tr>\n",
       "    <tr>\n",
       "      <th>25%</th>\n",
       "      <td>1.667890e-09</td>\n",
       "      <td>0.0</td>\n",
       "    </tr>\n",
       "    <tr>\n",
       "      <th>50%</th>\n",
       "      <td>8.366757e-06</td>\n",
       "      <td>0.0</td>\n",
       "    </tr>\n",
       "    <tr>\n",
       "      <th>75%</th>\n",
       "      <td>4.565895e-03</td>\n",
       "      <td>0.0</td>\n",
       "    </tr>\n",
       "    <tr>\n",
       "      <th>max</th>\n",
       "      <td>4.663678e-02</td>\n",
       "      <td>0.0</td>\n",
       "    </tr>\n",
       "  </tbody>\n",
       "</table>\n",
       "</div>"
      ],
      "text/plain": [
       "         model_loss  naive_loss\n",
       "count  2.700000e+01        27.0\n",
       "mean   5.195023e-03         0.0\n",
       "std    1.055707e-02         0.0\n",
       "min    4.791898e-15         0.0\n",
       "25%    1.667890e-09         0.0\n",
       "50%    8.366757e-06         0.0\n",
       "75%    4.565895e-03         0.0\n",
       "max    4.663678e-02         0.0"
      ]
     },
     "execution_count": 31,
     "metadata": {},
     "output_type": "execute_result"
    }
   ],
   "source": [
    "res_df[res_df[\"n_minus_m\"] == 0][[\"model_loss\", \"naive_loss\"]].describe()"
   ]
  },
  {
   "cell_type": "markdown",
   "metadata": {},
   "source": [
    "Now exclude the case where n=m, because in that case we expect a loss of zero. Note that in fact there were some models that didn't achieve a tiny loss, probably something isn't perfect with the training."
   ]
  },
  {
   "cell_type": "code",
   "execution_count": 26,
   "metadata": {},
   "outputs": [
    {
     "data": {
      "text/plain": [
       "<seaborn.axisgrid.FacetGrid at 0x310ed0210>"
      ]
     },
     "execution_count": 26,
     "metadata": {},
     "output_type": "execute_result"
    },
    {
     "data": {
      "image/png": "[encoded data removed]",
      "text/plain": [
       "<Figure size 500x500 with 1 Axes>"
      ]
     },
     "metadata": {},
     "output_type": "display_data"
    }
   ],
   "source": [
    "sns.catplot(data=res_df[res_df[\"n_minus_m\"] > 0], x=\"n_minus_m\", y=\"model_loss_over_naive_loss\", kind=\"box\")"
   ]
  },
  {
   "cell_type": "markdown",
   "metadata": {},
   "source": [
    "We can see many cases where the model did indeed perform better than the naive case (anywhere were the y-axis is under 1). Interestingly plenty of cases where the model did worse, especially when `n-m=1`, I didn't have time to explore that further, maybe these models needed more time to train?"
   ]
  },
  {
   "cell_type": "code",
   "execution_count": 32,
   "metadata": {},
   "outputs": [
    {
     "name": "stderr",
     "output_type": "stream",
     "text": [
      "/Users/anton/dev/.virtual_envs/default_env/lib/python3.11/site-packages/numpy/lib/function_base.py:4655: RuntimeWarning: invalid value encountered in subtract\n",
      "  diff_b_a = subtract(b, a)\n"
     ]
    },
    {
     "data": {
      "text/plain": [
       "<seaborn.axisgrid.FacetGrid at 0x311f69f10>"
      ]
     },
     "execution_count": 32,
     "metadata": {},
     "output_type": "execute_result"
    },
    {
     "data": {
      "image/png": "[encoded data removed]",
      "text/plain": [
       "<Figure size 500x500 with 1 Axes>"
      ]
     },
     "metadata": {},
     "output_type": "display_data"
    }
   ],
   "source": [
    "sns.catplot(data=res_df[res_df[\"n_minus_m\"] > 0], x=\"p\", y=\"model_loss_over_naive_loss\", kind=\"box\")"
   ]
  },
  {
   "cell_type": "markdown",
   "metadata": {},
   "source": [
    "Interestingly when p is low, the model doesn't quite get a loss as low as the naive loss. My guess is that because it is so sparse, it needs a lot more time to train, as p gets much higher, we have a lot more data and the model can start learning interesting things (superposition?)."
   ]
  },
  {
   "cell_type": "code",
   "execution_count": null,
   "metadata": {},
   "outputs": [],
   "source": []
  }
 ],
 "metadata": {
  "kernelspec": {
   "display_name": "default_env",
   "language": "python",
   "name": "python3"
  },
  "language_info": {
   "codemirror_mode": {
    "name": "ipython",
    "version": 3
   },
   "file_extension": ".py",
   "mimetype": "text/x-python",
   "name": "python",
   "nbconvert_exporter": "python",
   "pygments_lexer": "ipython3",
   "version": "3.11.3"
  }
 },
 "nbformat": 4,
 "nbformat_minor": 2
}
